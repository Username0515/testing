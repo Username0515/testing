{
  "nbformat": 4,
  "nbformat_minor": 0,
  "metadata": {
    "colab": {
      "name": "test mooon",
      "provenance": [],
      "authorship_tag": "ABX9TyP+cOqBo81k9Ht7cH7fsBrK",
      "include_colab_link": true
    },
    "kernelspec": {
      "name": "python3",
      "display_name": "Python 3"
    },
    "language_info": {
      "name": "python"
    }
  },
  "cells": [
    {
      "cell_type": "markdown",
      "metadata": {
        "id": "view-in-github",
        "colab_type": "text"
      },
      "source": [
        "<a href=\"https://colab.research.google.com/github/Username0515/testing/blob/main/test_mooon.ipynb\" target=\"_parent\"><img src=\"https://colab.research.google.com/assets/colab-badge.svg\" alt=\"Open In Colab\"/></a>"
      ]
    },
    {
      "cell_type": "code",
      "metadata": {
        "id": "4InFEuzQGF6w"
      },
      "source": [
        "a = [ \n",
        "[\"중생동물문\", \"Mesozoa\"] ,\n",
        "[\"해면동물문\",\"Porifera\"] ,\n",
        "[\"판형동물문\",\"Placozoa\"],\n",
        "[\"자포동물문\",\"cnidaria\"],\n",
        "[\"유즐동물문\",\"Ctenophora\"],\n",
        "[\"편형동물문\",\"Platyhelminthes\"],\n",
        "[\"유형동물문\",\"nemertea\"],\n",
        "[\"악구동물문\",\"Gnathostomulida\"],  \n",
        "[\"구륜동물문\",\"Cycliophora\"] ,\n",
        "[\"윤형동물문\",\"Rotifera\"],\n",
        "[\"복모동물문\",\"Gastrotricha\"],\n",
        "[\"동문동물문\",\"Kinorhyncha\"],\n",
        "[\"선형동물문\",\"Nematoda\"],\n",
        "[\"유선형동물문\",\"Nematomopha\"],  \n",
        "[\"구두동물문\",\"Acanthocephala\"],  \n",
        "[\"내항동물문\",\"Entoprocta\"]  ,\n",
        "[\"새예동물문\",\"Priapulida\"]  ,\n",
        "[\"동갑동물문\",\"Loricifera\"] ,\n",
        "[\"연체동물문\",\"Mollusca\"] ,\n",
        "[\"환형동물문\",\"Annelida\"],\n",
        "[\"절지동물문\",\"Apthropoda\"], \n",
        "[\"의충동물문\",\"Echiurida\"] ,\n",
        "[\"성구동물문\",\"sipunculida\"],  \n",
        "[\"완보동물문\",\"Tardigrada\"]  ,\n",
        "[\"오구동물문\",\"Pentastomida\"] , \n",
        "[\"유조동물문\",\"Onychophora\"]  ,\n",
        "[\"유수동물문\",\"Pogonophora\"]  ,\n",
        "[\"추형동물문\",\"Phoronida\"]  ,\n",
        "[\"태형동물문\",\"Bryozoa\"]  ,\n",
        "[\"완족동물문\",\"Brachiopoda\"],  \n",
        "[\"모악동물문\",\"Chaetognatha\"], \n",
        "[\"극피동물문\",\"Echinodermata\"], \n",
        "[\"반삭동물문\",\"Hemichordata\"],\n",
        "[\"척삭동물문\",\"Chordata\"]]"
      ],
      "execution_count": 1,
      "outputs": []
    },
    {
      "cell_type": "code",
      "metadata": {
        "id": "HgtobMzWIXG-"
      },
      "source": [
        "import numpy as np\n",
        "a= np.array(a)\n",
        "\n",
        "from sklearn.utils import shuffle\n",
        "from random import shuffle \n",
        "new_a = []\n",
        "for i in a:\n",
        "  new_a.append(i)\n",
        "\n",
        "\n",
        "shuffle(new_a)\n",
        "for ii, sublist in enumerate(new_a): \n",
        "    shuffle(new_a[ii])\n",
        "new_a= np.array(new_a)"
      ],
      "execution_count": 2,
      "outputs": []
    },
    {
      "cell_type": "code",
      "metadata": {
        "id": "D5BUWU4rOSRk"
      },
      "source": [
        ""
      ],
      "execution_count": 2,
      "outputs": []
    },
    {
      "cell_type": "code",
      "metadata": {
        "colab": {
          "base_uri": "https://localhost:8080/"
        },
        "id": "-Uk8kwQhJRnU",
        "outputId": "897fd683-9117-44b2-fdcd-55d6c04a06a3"
      },
      "source": [
        "for num,data in enumerate(new_a):\n",
        "  print(data[0],\"는?\")\n",
        "  input_data = input()\n",
        "  if input_data.lower()== data[1].lower():\n",
        "    print(\"맞음\")\n",
        "  else:\n",
        "    print(\"틀림\")"
      ],
      "execution_count": null,
      "outputs": [
        {
          "output_type": "stream",
          "name": "stdout",
          "text": [
            "Apthropoda 는?\n",
            "f\n",
            "틀림\n",
            "Pentastomida 는?\n",
            "s\n",
            "틀림\n",
            "자포동물문 는?\n",
            "cnidaria\n",
            "맞음\n",
            "Pogonophora 는?\n",
            "s\n",
            "틀림\n",
            "Nematomopha 는?\n",
            "f\n",
            "틀림\n",
            "Chaetognatha 는?\n",
            "s\n",
            "틀림\n",
            "Loricifera 는?\n",
            "g\n",
            "틀림\n",
            "Echinodermata 는?\n",
            "w\n",
            "틀림\n",
            "척삭동물문 는?\n",
            "chordata\n",
            "맞음\n",
            "성구동물문 는?\n"
          ]
        }
      ]
    },
    {
      "cell_type": "code",
      "metadata": {
        "id": "gSmPCieFObJL"
      },
      "source": [
        ""
      ],
      "execution_count": null,
      "outputs": []
    }
  ]
}